{
 "cells": [
  {
   "cell_type": "code",
   "execution_count": 8,
   "metadata": {},
   "outputs": [
    {
     "name": "stdout",
     "output_type": "stream",
     "text": [
      "[     CI328]\n",
      "[CI328     ]\n",
      "[  CI328   ]\n"
     ]
    }
   ],
   "source": [
    "# Display on separate lines the course number \n",
    "#‘CI328’ right-, center-, and left- aligned \n",
    "# in a field of 10 characters\n",
    "\n",
    "print(f'[{\"CI328\":>10}]')\n",
    "print(f'[{\"CI328\":<10}]')\n",
    "print(f'[{\"CI328\":^10}]')"
   ]
  },
  {
   "cell_type": "code",
   "execution_count": 19,
   "metadata": {},
   "outputs": [
    {
     "name": "stdout",
     "output_type": "stream",
     "text": [
      "+10,249.47\n",
      " -3,210.95\n"
     ]
    }
   ],
   "source": [
    "# Print the values 10240.473 and -3210.9521,\n",
    "# each preceded by its sign, in 10 characters\n",
    "# fields with thousands separators, their decimal \n",
    "# points aligned vertically and two digits of precision.\n",
    "\n",
    "print(f'{10249.473:+10,.2f}')\n",
    "print(f'{-3210.9521:10,.2f}')\n"
   ]
  },
  {
   "cell_type": "code",
   "execution_count": 24,
   "metadata": {},
   "outputs": [
    {
     "name": "stdout",
     "output_type": "stream",
     "text": [
      "[     CI328]\n",
      "[CI328     ]\n",
      "[  CI328   ]\n",
      "\n",
      "+10,249.47\n",
      " -3,210.95\n"
     ]
    }
   ],
   "source": [
    "# se string method format to display \n",
    "# the same result of Problem1 and Problem2.\n",
    "\n",
    "print('[{:>10}]'.format(\"CI328\"))\n",
    "print('[{:<10}]'.format(\"CI328\"))\n",
    "print('[{:^10}]'.format(\"CI328\"))\n",
    "\n",
    "print() \n",
    "\n",
    "print('{:+10,.2f}'.format(10249.473))\n",
    "print('{:10,.2f}'.format(-3210.9521))"
   ]
  },
  {
   "cell_type": "code",
   "execution_count": null,
   "metadata": {},
   "outputs": [],
   "source": []
  }
 ],
 "metadata": {
  "kernelspec": {
   "display_name": "Python 3",
   "language": "python",
   "name": "python3"
  },
  "language_info": {
   "codemirror_mode": {
    "name": "ipython",
    "version": 3
   },
   "file_extension": ".py",
   "mimetype": "text/x-python",
   "name": "python",
   "nbconvert_exporter": "python",
   "pygments_lexer": "ipython3",
   "version": "3.8.3"
  }
 },
 "nbformat": 4,
 "nbformat_minor": 4
}
